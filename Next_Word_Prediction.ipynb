{
  "cells": [
    {
      "cell_type": "code",
      "execution_count": 1,
      "metadata": {
        "id": "WiKbo_kay8uz"
      },
      "outputs": [],
      "source": [
        "import numpy as np\n",
        "import tensorflow as tf\n",
        "from tensorflow.keras.preprocessing.text import Tokenizer\n",
        "from tensorflow.keras.preprocessing.sequence import pad_sequences\n",
        "from tensorflow.keras.models import Sequential\n",
        "from tensorflow.keras.layers import Embedding, LSTM, Dense\n",
        "\n"
      ]
    },
    {
      "cell_type": "code",
      "execution_count": 2,
      "metadata": {
        "colab": {
          "base_uri": "https://localhost:8080/"
        },
        "id": "eeMqokGfzAZl",
        "outputId": "93959ffd-5a65-477b-f2ec-b41525345540"
      },
      "outputs": [
        {
          "output_type": "stream",
          "name": "stdout",
          "text": [
            "Mounted at /content/drive\n"
          ]
        }
      ],
      "source": [
        "from google.colab import drive\n",
        "drive.mount('/content/drive')"
      ]
    },
    {
      "cell_type": "code",
      "execution_count": 3,
      "metadata": {
        "id": "z3TxDQkqNWFB"
      },
      "outputs": [],
      "source": [
        "# Read the text file\n",
        "with open('/content/drive/MyDrive/hackathone/sherlock-holm.es_stories_plain-text_advs.txt', 'r', encoding='utf-8') as file:\n",
        "    text = file.read()"
      ]
    },
    {
      "cell_type": "code",
      "execution_count": 4,
      "metadata": {
        "id": "kQCKzAJmN287"
      },
      "outputs": [],
      "source": [
        "tokenizer = Tokenizer()\n",
        "tokenizer.fit_on_texts([text])\n",
        "total_words = len(tokenizer.word_index) + 1"
      ]
    },
    {
      "cell_type": "code",
      "execution_count": 5,
      "metadata": {
        "id": "YpRrJo0iN2_L"
      },
      "outputs": [],
      "source": [
        "input_sequences = []\n",
        "for line in text.split('\\n'):\n",
        "    token_list = tokenizer.texts_to_sequences([line])[0]\n",
        "    for i in range(1, len(token_list)):\n",
        "        n_gram_sequence = token_list[:i+1]\n",
        "        input_sequences.append(n_gram_sequence)"
      ]
    },
    {
      "cell_type": "code",
      "execution_count": 6,
      "metadata": {
        "id": "ktJGMAJjN3B2"
      },
      "outputs": [],
      "source": [
        "max_sequence_len = max([len(seq) for seq in input_sequences])\n",
        "input_sequences = np.array(pad_sequences(input_sequences, maxlen=max_sequence_len, padding='pre'))"
      ]
    },
    {
      "cell_type": "code",
      "execution_count": 7,
      "metadata": {
        "id": "VKzAWcU2N3EZ"
      },
      "outputs": [],
      "source": [
        "X = input_sequences[:, :-1]\n",
        "y = input_sequences[:, -1]"
      ]
    },
    {
      "cell_type": "code",
      "execution_count": 8,
      "metadata": {
        "id": "6jO0ixRLN3HB"
      },
      "outputs": [],
      "source": [
        "y = np.array(tf.keras.utils.to_categorical(y, num_classes=total_words))"
      ]
    },
    {
      "cell_type": "code",
      "execution_count": 9,
      "metadata": {
        "colab": {
          "base_uri": "https://localhost:8080/"
        },
        "id": "EyTV0ocFOJPH",
        "outputId": "c5001111-687b-461e-9c1a-9aa48d0dfc4a"
      },
      "outputs": [
        {
          "output_type": "stream",
          "name": "stdout",
          "text": [
            "Model: \"sequential\"\n",
            "_________________________________________________________________\n",
            " Layer (type)                Output Shape              Param #   \n",
            "=================================================================\n",
            " embedding (Embedding)       (None, 17, 100)           820000    \n",
            "                                                                 \n",
            " lstm (LSTM)                 (None, 150)               150600    \n",
            "                                                                 \n",
            " dense (Dense)               (None, 8200)              1238200   \n",
            "                                                                 \n",
            "=================================================================\n",
            "Total params: 2,208,800\n",
            "Trainable params: 2,208,800\n",
            "Non-trainable params: 0\n",
            "_________________________________________________________________\n",
            "None\n"
          ]
        }
      ],
      "source": [
        "model = Sequential()\n",
        "model.add(Embedding(total_words, 100, input_length=max_sequence_len-1))\n",
        "model.add(LSTM(150))\n",
        "model.add(Dense(total_words, activation='softmax'))\n",
        "print(model.summary())"
      ]
    },
    {
      "cell_type": "code",
      "execution_count": 11,
      "metadata": {
        "colab": {
          "base_uri": "https://localhost:8080/"
        },
        "id": "pSIMWrDkOJRy",
        "outputId": "174feff8-6863-49ad-a7f3-fa2b4a993f7b"
      },
      "outputs": [
        {
          "output_type": "stream",
          "name": "stdout",
          "text": [
            "Epoch 1/50\n",
            "3010/3010 [==============================] - 259s 85ms/step - loss: 6.2345 - accuracy: 0.0761\n",
            "Epoch 2/50\n",
            "3010/3010 [==============================] - 255s 85ms/step - loss: 5.5116 - accuracy: 0.1261\n",
            "Epoch 3/50\n",
            "3010/3010 [==============================] - 256s 85ms/step - loss: 5.1192 - accuracy: 0.1482\n",
            "Epoch 4/50\n",
            "3010/3010 [==============================] - 255s 85ms/step - loss: 4.7844 - accuracy: 0.1655\n",
            "Epoch 5/50\n",
            "3010/3010 [==============================] - 252s 84ms/step - loss: 4.4733 - accuracy: 0.1854\n",
            "Epoch 6/50\n",
            "3010/3010 [==============================] - 253s 84ms/step - loss: 4.1828 - accuracy: 0.2062\n",
            "Epoch 7/50\n",
            "3010/3010 [==============================] - 254s 85ms/step - loss: 3.9042 - accuracy: 0.2326\n",
            "Epoch 8/50\n",
            "3010/3010 [==============================] - 252s 84ms/step - loss: 3.6386 - accuracy: 0.2651\n",
            "Epoch 9/50\n",
            "3010/3010 [==============================] - 250s 83ms/step - loss: 3.3919 - accuracy: 0.3000\n",
            "Epoch 10/50\n",
            "3010/3010 [==============================] - 247s 82ms/step - loss: 3.1584 - accuracy: 0.3367\n",
            "Epoch 11/50\n",
            "3010/3010 [==============================] - 243s 81ms/step - loss: 2.9431 - accuracy: 0.3723\n",
            "Epoch 12/50\n",
            "3010/3010 [==============================] - 243s 81ms/step - loss: 2.7439 - accuracy: 0.4081\n",
            "Epoch 13/50\n",
            "3010/3010 [==============================] - 246s 82ms/step - loss: 2.5633 - accuracy: 0.4430\n",
            "Epoch 14/50\n",
            "3010/3010 [==============================] - 246s 82ms/step - loss: 2.3953 - accuracy: 0.4765\n",
            "Epoch 15/50\n",
            "3010/3010 [==============================] - 246s 82ms/step - loss: 2.2436 - accuracy: 0.5050\n",
            "Epoch 16/50\n",
            "3010/3010 [==============================] - 246s 82ms/step - loss: 2.1038 - accuracy: 0.5339\n",
            "Epoch 17/50\n",
            "3010/3010 [==============================] - 248s 82ms/step - loss: 1.9760 - accuracy: 0.5600\n",
            "Epoch 18/50\n",
            "3010/3010 [==============================] - 249s 83ms/step - loss: 1.8580 - accuracy: 0.5851\n",
            "Epoch 19/50\n",
            "3010/3010 [==============================] - 245s 82ms/step - loss: 1.7513 - accuracy: 0.6085\n",
            "Epoch 20/50\n",
            "3010/3010 [==============================] - 245s 81ms/step - loss: 1.6543 - accuracy: 0.6289\n",
            "Epoch 21/50\n",
            "3010/3010 [==============================] - 247s 82ms/step - loss: 1.5641 - accuracy: 0.6481\n",
            "Epoch 22/50\n",
            "3010/3010 [==============================] - 248s 82ms/step - loss: 1.4822 - accuracy: 0.6671\n",
            "Epoch 23/50\n",
            "3010/3010 [==============================] - 249s 83ms/step - loss: 1.4055 - accuracy: 0.6835\n",
            "Epoch 24/50\n",
            "3010/3010 [==============================] - 248s 82ms/step - loss: 1.3396 - accuracy: 0.6974\n",
            "Epoch 25/50\n",
            "3010/3010 [==============================] - 244s 81ms/step - loss: 1.2732 - accuracy: 0.7126\n",
            "Epoch 26/50\n",
            "3010/3010 [==============================] - 245s 81ms/step - loss: 1.2164 - accuracy: 0.7261\n",
            "Epoch 27/50\n",
            "3010/3010 [==============================] - 247s 82ms/step - loss: 1.1611 - accuracy: 0.7370\n",
            "Epoch 28/50\n",
            "3010/3010 [==============================] - 250s 83ms/step - loss: 1.1134 - accuracy: 0.7479\n",
            "Epoch 29/50\n",
            "3010/3010 [==============================] - 249s 83ms/step - loss: 1.0684 - accuracy: 0.7574\n",
            "Epoch 30/50\n",
            "3010/3010 [==============================] - 247s 82ms/step - loss: 1.0289 - accuracy: 0.7666\n",
            "Epoch 31/50\n",
            "3010/3010 [==============================] - 245s 81ms/step - loss: 0.9881 - accuracy: 0.7741\n",
            "Epoch 32/50\n",
            "3010/3010 [==============================] - 249s 83ms/step - loss: 0.9540 - accuracy: 0.7828\n",
            "Epoch 33/50\n",
            "3010/3010 [==============================] - 248s 82ms/step - loss: 0.9214 - accuracy: 0.7894\n",
            "Epoch 34/50\n",
            "3010/3010 [==============================] - 250s 83ms/step - loss: 0.8927 - accuracy: 0.7957\n",
            "Epoch 35/50\n",
            "3010/3010 [==============================] - 247s 82ms/step - loss: 0.8653 - accuracy: 0.8016\n",
            "Epoch 36/50\n",
            "3010/3010 [==============================] - 247s 82ms/step - loss: 0.8410 - accuracy: 0.8067\n",
            "Epoch 37/50\n",
            "3010/3010 [==============================] - 246s 82ms/step - loss: 0.8182 - accuracy: 0.8119\n",
            "Epoch 38/50\n",
            "3010/3010 [==============================] - 245s 81ms/step - loss: 0.7992 - accuracy: 0.8153\n",
            "Epoch 39/50\n",
            "3010/3010 [==============================] - 246s 82ms/step - loss: 0.7787 - accuracy: 0.8194\n",
            "Epoch 40/50\n",
            "3010/3010 [==============================] - 243s 81ms/step - loss: 0.7596 - accuracy: 0.8233\n",
            "Epoch 41/50\n",
            "3010/3010 [==============================] - 246s 82ms/step - loss: 0.7440 - accuracy: 0.8273\n",
            "Epoch 42/50\n",
            "3010/3010 [==============================] - 249s 83ms/step - loss: 0.7288 - accuracy: 0.8296\n",
            "Epoch 43/50\n",
            "3010/3010 [==============================] - 249s 83ms/step - loss: 0.7122 - accuracy: 0.8333\n",
            "Epoch 44/50\n",
            "3010/3010 [==============================] - 247s 82ms/step - loss: 0.7038 - accuracy: 0.8349\n",
            "Epoch 45/50\n",
            "3010/3010 [==============================] - 247s 82ms/step - loss: 0.6873 - accuracy: 0.8393\n",
            "Epoch 46/50\n",
            "3010/3010 [==============================] - 249s 83ms/step - loss: 0.6782 - accuracy: 0.8390\n",
            "Epoch 47/50\n",
            "3010/3010 [==============================] - 248s 82ms/step - loss: 0.6645 - accuracy: 0.8426\n",
            "Epoch 48/50\n",
            "3010/3010 [==============================] - 248s 82ms/step - loss: 0.6611 - accuracy: 0.8431\n",
            "Epoch 49/50\n",
            "3010/3010 [==============================] - 248s 82ms/step - loss: 0.6491 - accuracy: 0.8450\n",
            "Epoch 50/50\n",
            "3010/3010 [==============================] - 248s 82ms/step - loss: 0.6435 - accuracy: 0.8457\n"
          ]
        },
        {
          "output_type": "execute_result",
          "data": {
            "text/plain": [
              "<keras.callbacks.History at 0x786852e9bc10>"
            ]
          },
          "metadata": {},
          "execution_count": 11
        }
      ],
      "source": [
        "model.compile(loss='categorical_crossentropy', optimizer='adam', metrics=['accuracy'])\n",
        "model.fit(X, y, epochs=50, verbose=1)"
      ]
    },
    {
      "cell_type": "code",
      "execution_count": 14,
      "metadata": {
        "colab": {
          "base_uri": "https://localhost:8080/"
        },
        "id": "lU037hDuOJUe",
        "outputId": "ac470e78-be1b-4349-fa8c-af7fb7d6f9ea"
      },
      "outputs": [
        {
          "output_type": "stream",
          "name": "stdout",
          "text": [
            "1/1 [==============================] - 0s 28ms/step\n",
            "1/1 [==============================] - 0s 24ms/step\n",
            "1/1 [==============================] - 0s 25ms/step\n",
            "1/1 [==============================] - 0s 28ms/step\n",
            "1/1 [==============================] - 0s 30ms/step\n",
            "1/1 [==============================] - 0s 29ms/step\n",
            "1/1 [==============================] - 0s 37ms/step\n",
            "1/1 [==============================] - 0s 27ms/step\n",
            "1/1 [==============================] - 0s 27ms/step\n",
            "1/1 [==============================] - 0s 25ms/step\n",
            "I will leave if they were identical it would have been better to expect it\n"
          ]
        }
      ],
      "source": [
        "seed_text = \"I will leave if they\"\n",
        "next_words = 10\n",
        "\n",
        "for _ in range(next_words):\n",
        "    token_list = tokenizer.texts_to_sequences([seed_text])[0]\n",
        "    token_list = pad_sequences([token_list], maxlen=max_sequence_len-1, padding='pre')\n",
        "    predicted = np.argmax(model.predict(token_list), axis=-1)\n",
        "    output_word = \"\"\n",
        "    for word, index in tokenizer.word_index.items():\n",
        "        if index == predicted:\n",
        "            output_word = word\n",
        "            break\n",
        "    seed_text += \" \" + output_word\n",
        "\n",
        "print(seed_text)"
      ]
    }
  ],
  "metadata": {
    "colab": {
      "provenance": []
    },
    "kernelspec": {
      "display_name": "Python 3",
      "name": "python3"
    },
    "language_info": {
      "name": "python"
    }
  },
  "nbformat": 4,
  "nbformat_minor": 0
}